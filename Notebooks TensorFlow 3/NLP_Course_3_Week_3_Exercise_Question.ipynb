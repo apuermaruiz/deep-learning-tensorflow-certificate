{
  "nbformat": 4,
  "nbformat_minor": 0,
  "metadata": {
    "accelerator": "GPU",
    "colab": {
      "name": "NLP Course - Week 3 Exercise Question.ipynb",
      "provenance": [],
      "toc_visible": true
    },
    "kernelspec": {
      "display_name": "Python 3",
      "name": "python3"
    }
  },
  "cells": [
    {
      "cell_type": "code",
      "metadata": {
        "id": "zX4Kg8DUTKWO"
      },
      "source": [
        "#@title Licensed under the Apache License, Version 2.0 (the \"License\");\n",
        "# you may not use this file except in compliance with the License.\n",
        "# You may obtain a copy of the License at\n",
        "#\n",
        "# https://www.apache.org/licenses/LICENSE-2.0\n",
        "#\n",
        "# Unless required by applicable law or agreed to in writing, software\n",
        "# distributed under the License is distributed on an \"AS IS\" BASIS,\n",
        "# WITHOUT WARRANTIES OR CONDITIONS OF ANY KIND, either express or implied.\n",
        "# See the License for the specific language governing permissions and\n",
        "# limitations under the License."
      ],
      "execution_count": 1,
      "outputs": []
    },
    {
      "cell_type": "code",
      "metadata": {
        "id": "hmA6EzkQJ5jt"
      },
      "source": [
        "import json\n",
        "import tensorflow as tf\n",
        "import csv\n",
        "import random\n",
        "import numpy as np\n",
        "\n",
        "from tensorflow.keras.preprocessing.text import Tokenizer\n",
        "from tensorflow.keras.preprocessing.sequence import pad_sequences\n",
        "from tensorflow.keras.utils import to_categorical\n",
        "from tensorflow.keras import regularizers\n",
        "\n",
        "\n",
        "embedding_dim = 100\n",
        "max_length = 16\n",
        "trunc_type='post'\n",
        "padding_type='post'\n",
        "oov_tok = \"<OOV>\"\n",
        "training_size=160000 #Your dataset size here. Experiment using smaller values (i.e. 16000), but don't forget to train on at least 160000 to see the best effects\n",
        "test_portion=.1\n",
        "\n",
        "corpus = []\n"
      ],
      "execution_count": 2,
      "outputs": []
    },
    {
      "cell_type": "code",
      "metadata": {
        "colab": {
          "base_uri": "https://localhost:8080/"
        },
        "id": "bM0l_dORKqE0",
        "outputId": "6aa44a0e-ea2e-4ae4-8e4e-16680052fb5a"
      },
      "source": [
        "# Note that I cleaned the Stanford dataset to remove LATIN1 encoding to make it easier for Python CSV reader\n",
        "# You can do that yourself with:\n",
        "# iconv -f LATIN1 -t UTF8 training.1600000.processed.noemoticon.csv -o training_cleaned.csv\n",
        "# I then hosted it on my site to make it easier to use in this notebook\n",
        "\n",
        "!wget --no-check-certificate \\\n",
        "    https://storage.googleapis.com/laurencemoroney-blog.appspot.com/training_cleaned.csv \\\n",
        "    -O /tmp/training_cleaned.csv\n",
        "\n",
        "num_sentences = 0\n",
        "\n",
        "with open(\"/tmp/training_cleaned.csv\") as csvfile:\n",
        "    reader = csv.reader(csvfile, delimiter=',')\n",
        "    for row in reader:\n",
        "      # Your Code here. Create list items where the first item is the text, found in row[5], and the second is the label. Note that the label is a '0' or a '4' in the text. When it's the former, make\n",
        "      # your label to be 0, otherwise 1. Keep a count of the number of sentences in num_sentences\n",
        "        list_item=[]\n",
        "        # YOUR CODE HERE\n",
        "        list_item.append(row[5])\n",
        "        this_label=row[0]\n",
        "        if this_label=='0':\n",
        "            list_item.append(0)\n",
        "        else:\n",
        "            list_item.append(1)\n",
        "        num_sentences = num_sentences + 1\n",
        "        corpus.append(list_item)\n"
      ],
      "execution_count": 3,
      "outputs": [
        {
          "output_type": "stream",
          "text": [
            "--2021-01-02 19:58:25--  https://storage.googleapis.com/laurencemoroney-blog.appspot.com/training_cleaned.csv\n",
            "Resolving storage.googleapis.com (storage.googleapis.com)... 74.125.195.128, 74.125.142.128, 2607:f8b0:400e:c09::80, ...\n",
            "Connecting to storage.googleapis.com (storage.googleapis.com)|74.125.195.128|:443... connected.\n",
            "HTTP request sent, awaiting response... 200 OK\n",
            "Length: 238942690 (228M) [application/octet-stream]\n",
            "Saving to: ‘/tmp/training_cleaned.csv’\n",
            "\n",
            "/tmp/training_clean 100%[===================>] 227.87M   231MB/s    in 1.0s    \n",
            "\n",
            "2021-01-02 19:58:26 (231 MB/s) - ‘/tmp/training_cleaned.csv’ saved [238942690/238942690]\n",
            "\n"
          ],
          "name": "stdout"
        }
      ]
    },
    {
      "cell_type": "code",
      "metadata": {
        "colab": {
          "base_uri": "https://localhost:8080/"
        },
        "id": "3kxblBUjEUX-",
        "outputId": "bde1598b-2d9a-418a-ad34-5a0e4e86d9f4"
      },
      "source": [
        "print(num_sentences)\n",
        "print(len(corpus))\n",
        "print(corpus[1])\n",
        "\n",
        "# Expected Output:\n",
        "# 1600000\n",
        "# 1600000\n",
        "# [\"is upset that he can't update his Facebook by texting it... and might cry as a result  School today also. Blah!\", 0]"
      ],
      "execution_count": 4,
      "outputs": [
        {
          "output_type": "stream",
          "text": [
            "1600000\n",
            "1600000\n",
            "[\"is upset that he can't update his Facebook by texting it... and might cry as a result  School today also. Blah!\", 0]\n"
          ],
          "name": "stdout"
        }
      ]
    },
    {
      "cell_type": "code",
      "metadata": {
        "id": "ohOGz24lsNAD"
      },
      "source": [
        "sentences=[]\n",
        "labels=[]\n",
        "random.shuffle(corpus)\n",
        "for x in range(training_size):\n",
        "    sentences.append(corpus[x][0])# YOUR CODE HERE)\n",
        "    labels.append(corpus[x][1])# YOUR CODE HERE)\n",
        "\n",
        "\n",
        "tokenizer = Tokenizer()\n",
        "tokenizer.fit_on_texts(sentences)# YOUR CODE HERE)\n",
        "\n",
        "word_index = tokenizer.word_index\n",
        "vocab_size=len(word_index)# YOUR CODE HERE)\n",
        "\n",
        "sequences = tokenizer.texts_to_sequences(sentences)# YOUR CODE HERE)\n",
        "padded = pad_sequences(sequences, maxlen=max_length, padding=padding_type, truncating=trunc_type)# YOUR CODE HERE)\n",
        "\n",
        "split = int(test_portion * training_size)\n",
        "\n",
        "test_sequences = padded[0:split]# YOUR CODE HERE]\n",
        "training_sequences = padded[split:training_size]# YOUR CODE HERE]\n",
        "test_labels = labels[0:split]# YOUR CODE HERE]\n",
        "training_labels = labels[split:training_size]# YOUR CODE HERE]"
      ],
      "execution_count": 5,
      "outputs": []
    },
    {
      "cell_type": "code",
      "metadata": {
        "colab": {
          "base_uri": "https://localhost:8080/"
        },
        "id": "gIrtRem1En3N",
        "outputId": "51d007b0-943d-4ec2-cc90-14acf2bd652d"
      },
      "source": [
        "print(vocab_size)\n",
        "print(word_index['i'])\n",
        "# Expected Output\n",
        "# 138858\n",
        "# 1"
      ],
      "execution_count": 6,
      "outputs": [
        {
          "output_type": "stream",
          "text": [
            "138381\n",
            "1\n"
          ],
          "name": "stdout"
        }
      ]
    },
    {
      "cell_type": "code",
      "metadata": {
        "colab": {
          "base_uri": "https://localhost:8080/"
        },
        "id": "C1zdgJkusRh0",
        "outputId": "74cf4019-5503-443e-d829-df969fbd634b"
      },
      "source": [
        "# Note this is the 100 dimension version of GloVe from Stanford\n",
        "# I unzipped and hosted it on my site to make this notebook easier\n",
        "!wget --no-check-certificate \\\n",
        "    https://storage.googleapis.com/laurencemoroney-blog.appspot.com/glove.6B.100d.txt \\\n",
        "    -O /tmp/glove.6B.100d.txt\n",
        "embeddings_index = {};\n",
        "with open('/tmp/glove.6B.100d.txt') as f:\n",
        "    for line in f:\n",
        "        values = line.split();\n",
        "        word = values[0];\n",
        "        coefs = np.asarray(values[1:], dtype='float32');\n",
        "        embeddings_index[word] = coefs;\n",
        "\n",
        "embeddings_matrix = np.zeros((vocab_size+1, embedding_dim));\n",
        "for word, i in word_index.items():\n",
        "    embedding_vector = embeddings_index.get(word);\n",
        "    if embedding_vector is not None:\n",
        "        embeddings_matrix[i] = embedding_vector;"
      ],
      "execution_count": 7,
      "outputs": [
        {
          "output_type": "stream",
          "text": [
            "--2021-01-02 20:06:39--  https://storage.googleapis.com/laurencemoroney-blog.appspot.com/glove.6B.100d.txt\n",
            "Resolving storage.googleapis.com (storage.googleapis.com)... 74.125.20.128, 108.177.98.128, 74.125.195.128, ...\n",
            "Connecting to storage.googleapis.com (storage.googleapis.com)|74.125.20.128|:443... connected.\n",
            "HTTP request sent, awaiting response... 200 OK\n",
            "Length: 347116733 (331M) [text/plain]\n",
            "Saving to: ‘/tmp/glove.6B.100d.txt’\n",
            "\n",
            "/tmp/glove.6B.100d. 100%[===================>] 331.04M   148MB/s    in 2.2s    \n",
            "\n",
            "2021-01-02 20:06:42 (148 MB/s) - ‘/tmp/glove.6B.100d.txt’ saved [347116733/347116733]\n",
            "\n"
          ],
          "name": "stdout"
        }
      ]
    },
    {
      "cell_type": "code",
      "metadata": {
        "colab": {
          "base_uri": "https://localhost:8080/"
        },
        "id": "71NLk_lpFLNt",
        "outputId": "1ea039df-4ebc-48db-9671-deaf89713e4f"
      },
      "source": [
        "print(len(embeddings_matrix))\n",
        "# Expected Output\n",
        "# 138859"
      ],
      "execution_count": 8,
      "outputs": [
        {
          "output_type": "stream",
          "text": [
            "138382\n"
          ],
          "name": "stdout"
        }
      ]
    },
    {
      "cell_type": "code",
      "metadata": {
        "colab": {
          "base_uri": "https://localhost:8080/"
        },
        "id": "iKKvbuEBOGFz",
        "outputId": "42872090-4a68-48e4-9244-b6ab33a395cf"
      },
      "source": [
        "model = tf.keras.Sequential([\n",
        "    tf.keras.layers.Embedding(vocab_size+1, embedding_dim, input_length=max_length, weights=[embeddings_matrix], trainable=False),\n",
        "    # YOUR CODE HERE - experiment with combining different types, such as convolutions and LSTMs\n",
        "    tf.keras.layers.Dropout(0.2),\n",
        "    tf.keras.layers.Conv1D(64, 5, activation='relu'),\n",
        "    tf.keras.layers.MaxPooling1D(pool_size=4),\n",
        "    tf.keras.layers.LSTM(64),\n",
        "    tf.keras.layers.Dense(1, activation='sigmoid')\n",
        "])\n",
        "model.compile(loss='binary_crossentropy', optimizer='adam', metrics=['accuracy'])# YOUR CODE HERE)\n",
        "model.summary()\n",
        "\n",
        "training_padded = np.array(training_sequences)\n",
        "training_labels = np.array(training_labels)\n",
        "testing_padded = np.array(test_sequences)\n",
        "testing_labels = np.array(test_labels)\n",
        "\n",
        "num_epochs = 50\n",
        "history = model.fit(training_padded, training_labels, epochs=num_epochs, validation_data=(testing_padded, testing_labels), verbose=2)\n",
        "\n",
        "print(\"Training Complete\")\n"
      ],
      "execution_count": 12,
      "outputs": [
        {
          "output_type": "stream",
          "text": [
            "Model: \"sequential_3\"\n",
            "_________________________________________________________________\n",
            "Layer (type)                 Output Shape              Param #   \n",
            "=================================================================\n",
            "embedding_3 (Embedding)      (None, 16, 100)           13838200  \n",
            "_________________________________________________________________\n",
            "dropout_3 (Dropout)          (None, 16, 100)           0         \n",
            "_________________________________________________________________\n",
            "conv1d_3 (Conv1D)            (None, 12, 64)            32064     \n",
            "_________________________________________________________________\n",
            "max_pooling1d_3 (MaxPooling1 (None, 3, 64)             0         \n",
            "_________________________________________________________________\n",
            "lstm_3 (LSTM)                (None, 64)                33024     \n",
            "_________________________________________________________________\n",
            "dense_3 (Dense)              (None, 1)                 65        \n",
            "=================================================================\n",
            "Total params: 13,903,353\n",
            "Trainable params: 65,153\n",
            "Non-trainable params: 13,838,200\n",
            "_________________________________________________________________\n",
            "Epoch 1/50\n",
            "4500/4500 - 16s - loss: 0.5665 - accuracy: 0.6993 - val_loss: 0.5183 - val_accuracy: 0.7399\n",
            "Epoch 2/50\n",
            "4500/4500 - 14s - loss: 0.5260 - accuracy: 0.7323 - val_loss: 0.5107 - val_accuracy: 0.7470\n",
            "Epoch 3/50\n",
            "4500/4500 - 14s - loss: 0.5097 - accuracy: 0.7444 - val_loss: 0.4988 - val_accuracy: 0.7531\n",
            "Epoch 4/50\n",
            "4500/4500 - 14s - loss: 0.4986 - accuracy: 0.7520 - val_loss: 0.4971 - val_accuracy: 0.7536\n",
            "Epoch 5/50\n",
            "4500/4500 - 14s - loss: 0.4890 - accuracy: 0.7580 - val_loss: 0.4932 - val_accuracy: 0.7584\n",
            "Epoch 6/50\n",
            "4500/4500 - 14s - loss: 0.4823 - accuracy: 0.7621 - val_loss: 0.4904 - val_accuracy: 0.7601\n",
            "Epoch 7/50\n",
            "4500/4500 - 14s - loss: 0.4766 - accuracy: 0.7662 - val_loss: 0.4919 - val_accuracy: 0.7588\n",
            "Epoch 8/50\n",
            "4500/4500 - 14s - loss: 0.4704 - accuracy: 0.7714 - val_loss: 0.4953 - val_accuracy: 0.7591\n",
            "Epoch 9/50\n",
            "4500/4500 - 14s - loss: 0.4665 - accuracy: 0.7739 - val_loss: 0.4903 - val_accuracy: 0.7600\n",
            "Epoch 10/50\n",
            "4500/4500 - 14s - loss: 0.4628 - accuracy: 0.7744 - val_loss: 0.4919 - val_accuracy: 0.7615\n",
            "Epoch 11/50\n",
            "4500/4500 - 14s - loss: 0.4593 - accuracy: 0.7773 - val_loss: 0.4929 - val_accuracy: 0.7579\n",
            "Epoch 12/50\n",
            "4500/4500 - 14s - loss: 0.4565 - accuracy: 0.7788 - val_loss: 0.4941 - val_accuracy: 0.7567\n",
            "Epoch 13/50\n",
            "4500/4500 - 14s - loss: 0.4539 - accuracy: 0.7815 - val_loss: 0.4966 - val_accuracy: 0.7588\n",
            "Epoch 14/50\n",
            "4500/4500 - 14s - loss: 0.4510 - accuracy: 0.7829 - val_loss: 0.4995 - val_accuracy: 0.7553\n",
            "Epoch 15/50\n",
            "4500/4500 - 14s - loss: 0.4491 - accuracy: 0.7830 - val_loss: 0.5015 - val_accuracy: 0.7561\n",
            "Epoch 16/50\n",
            "4500/4500 - 14s - loss: 0.4461 - accuracy: 0.7850 - val_loss: 0.5037 - val_accuracy: 0.7589\n",
            "Epoch 17/50\n",
            "4500/4500 - 14s - loss: 0.4459 - accuracy: 0.7856 - val_loss: 0.5033 - val_accuracy: 0.7555\n",
            "Epoch 18/50\n",
            "4500/4500 - 14s - loss: 0.4434 - accuracy: 0.7873 - val_loss: 0.4993 - val_accuracy: 0.7581\n",
            "Epoch 19/50\n",
            "4500/4500 - 14s - loss: 0.4418 - accuracy: 0.7875 - val_loss: 0.5035 - val_accuracy: 0.7573\n",
            "Epoch 20/50\n",
            "4500/4500 - 14s - loss: 0.4413 - accuracy: 0.7878 - val_loss: 0.5016 - val_accuracy: 0.7569\n",
            "Epoch 21/50\n",
            "4500/4500 - 14s - loss: 0.4388 - accuracy: 0.7897 - val_loss: 0.5016 - val_accuracy: 0.7601\n",
            "Epoch 22/50\n",
            "4500/4500 - 14s - loss: 0.4379 - accuracy: 0.7912 - val_loss: 0.5042 - val_accuracy: 0.7582\n",
            "Epoch 23/50\n",
            "4500/4500 - 14s - loss: 0.4356 - accuracy: 0.7912 - val_loss: 0.5067 - val_accuracy: 0.7527\n",
            "Epoch 24/50\n",
            "4500/4500 - 14s - loss: 0.4363 - accuracy: 0.7910 - val_loss: 0.5036 - val_accuracy: 0.7536\n",
            "Epoch 25/50\n",
            "4500/4500 - 13s - loss: 0.4350 - accuracy: 0.7921 - val_loss: 0.5087 - val_accuracy: 0.7536\n",
            "Epoch 26/50\n",
            "4500/4500 - 13s - loss: 0.4333 - accuracy: 0.7929 - val_loss: 0.5128 - val_accuracy: 0.7512\n",
            "Epoch 27/50\n",
            "4500/4500 - 13s - loss: 0.4329 - accuracy: 0.7942 - val_loss: 0.5051 - val_accuracy: 0.7538\n",
            "Epoch 28/50\n",
            "4500/4500 - 13s - loss: 0.4332 - accuracy: 0.7939 - val_loss: 0.5111 - val_accuracy: 0.7546\n",
            "Epoch 29/50\n",
            "4500/4500 - 14s - loss: 0.4327 - accuracy: 0.7935 - val_loss: 0.5101 - val_accuracy: 0.7531\n",
            "Epoch 30/50\n",
            "4500/4500 - 14s - loss: 0.4326 - accuracy: 0.7935 - val_loss: 0.5108 - val_accuracy: 0.7524\n",
            "Epoch 31/50\n",
            "4500/4500 - 14s - loss: 0.4299 - accuracy: 0.7946 - val_loss: 0.5114 - val_accuracy: 0.7513\n",
            "Epoch 32/50\n",
            "4500/4500 - 14s - loss: 0.4304 - accuracy: 0.7948 - val_loss: 0.5142 - val_accuracy: 0.7520\n",
            "Epoch 33/50\n",
            "4500/4500 - 14s - loss: 0.4293 - accuracy: 0.7956 - val_loss: 0.5093 - val_accuracy: 0.7477\n",
            "Epoch 34/50\n",
            "4500/4500 - 14s - loss: 0.4286 - accuracy: 0.7965 - val_loss: 0.5130 - val_accuracy: 0.7544\n",
            "Epoch 35/50\n",
            "4500/4500 - 14s - loss: 0.4276 - accuracy: 0.7966 - val_loss: 0.5143 - val_accuracy: 0.7506\n",
            "Epoch 36/50\n",
            "4500/4500 - 14s - loss: 0.4289 - accuracy: 0.7960 - val_loss: 0.5102 - val_accuracy: 0.7518\n",
            "Epoch 37/50\n",
            "4500/4500 - 14s - loss: 0.4278 - accuracy: 0.7970 - val_loss: 0.5123 - val_accuracy: 0.7509\n",
            "Epoch 38/50\n",
            "4500/4500 - 14s - loss: 0.4274 - accuracy: 0.7966 - val_loss: 0.5141 - val_accuracy: 0.7499\n",
            "Epoch 39/50\n",
            "4500/4500 - 14s - loss: 0.4274 - accuracy: 0.7968 - val_loss: 0.5154 - val_accuracy: 0.7485\n",
            "Epoch 40/50\n",
            "4500/4500 - 14s - loss: 0.4269 - accuracy: 0.7975 - val_loss: 0.5149 - val_accuracy: 0.7496\n",
            "Epoch 41/50\n",
            "4500/4500 - 14s - loss: 0.4245 - accuracy: 0.7985 - val_loss: 0.5100 - val_accuracy: 0.7521\n",
            "Epoch 42/50\n",
            "4500/4500 - 14s - loss: 0.4260 - accuracy: 0.7977 - val_loss: 0.5121 - val_accuracy: 0.7527\n",
            "Epoch 43/50\n",
            "4500/4500 - 14s - loss: 0.4257 - accuracy: 0.7974 - val_loss: 0.5105 - val_accuracy: 0.7514\n",
            "Epoch 44/50\n",
            "4500/4500 - 14s - loss: 0.4250 - accuracy: 0.7985 - val_loss: 0.5104 - val_accuracy: 0.7523\n",
            "Epoch 45/50\n",
            "4500/4500 - 14s - loss: 0.4255 - accuracy: 0.7968 - val_loss: 0.5152 - val_accuracy: 0.7504\n",
            "Epoch 46/50\n",
            "4500/4500 - 14s - loss: 0.4239 - accuracy: 0.7988 - val_loss: 0.5153 - val_accuracy: 0.7536\n",
            "Epoch 47/50\n",
            "4500/4500 - 14s - loss: 0.4236 - accuracy: 0.7994 - val_loss: 0.5124 - val_accuracy: 0.7496\n",
            "Epoch 48/50\n",
            "4500/4500 - 14s - loss: 0.4235 - accuracy: 0.7987 - val_loss: 0.5187 - val_accuracy: 0.7513\n",
            "Epoch 49/50\n",
            "4500/4500 - 13s - loss: 0.4237 - accuracy: 0.7991 - val_loss: 0.5166 - val_accuracy: 0.7525\n",
            "Epoch 50/50\n",
            "4500/4500 - 14s - loss: 0.4234 - accuracy: 0.7985 - val_loss: 0.5192 - val_accuracy: 0.7537\n",
            "Training Complete\n"
          ],
          "name": "stdout"
        }
      ]
    },
    {
      "cell_type": "code",
      "metadata": {
        "colab": {
          "base_uri": "https://localhost:8080/",
          "height": 607
        },
        "id": "qxju4ItJKO8F",
        "outputId": "2ca60aab-9830-46d5-dfde-2a5e2ee3317a"
      },
      "source": [
        "import matplotlib.image  as mpimg\n",
        "import matplotlib.pyplot as plt\n",
        "\n",
        "#-----------------------------------------------------------\n",
        "# Retrieve a list of list results on training and test data\n",
        "# sets for each training epoch\n",
        "#-----------------------------------------------------------\n",
        "acc=history.history['accuracy']\n",
        "val_acc=history.history['val_accuracy']\n",
        "loss=history.history['loss']\n",
        "val_loss=history.history['val_loss']\n",
        "\n",
        "epochs=range(len(acc)) # Get number of epochs\n",
        "\n",
        "#------------------------------------------------\n",
        "# Plot training and validation accuracy per epoch\n",
        "#------------------------------------------------\n",
        "plt.plot(epochs, acc, 'r')\n",
        "plt.plot(epochs, val_acc, 'b')\n",
        "plt.title('Training and validation accuracy')\n",
        "plt.xlabel(\"Epochs\")\n",
        "plt.ylabel(\"Accuracy\")\n",
        "plt.legend([\"Accuracy\", \"Validation Accuracy\"])\n",
        "\n",
        "plt.figure()\n",
        "\n",
        "#------------------------------------------------\n",
        "# Plot training and validation loss per epoch\n",
        "#------------------------------------------------\n",
        "plt.plot(epochs, loss, 'r')\n",
        "plt.plot(epochs, val_loss, 'b')\n",
        "plt.title('Training and validation loss')\n",
        "plt.xlabel(\"Epochs\")\n",
        "plt.ylabel(\"Loss\")\n",
        "plt.legend([\"Loss\", \"Validation Loss\"])\n",
        "\n",
        "plt.figure()\n",
        "\n",
        "\n",
        "# Expected Output\n",
        "# A chart where the validation loss does not increase sharply!"
      ],
      "execution_count": 13,
      "outputs": [
        {
          "output_type": "execute_result",
          "data": {
            "text/plain": [
              "<Figure size 432x288 with 0 Axes>"
            ]
          },
          "metadata": {
            "tags": []
          },
          "execution_count": 13
        },
        {
          "output_type": "display_data",
          "data": {
            "image/png": "[encoded data removed]",
            "text/plain": [
              "<Figure size 432x288 with 1 Axes>"
            ]
          },
          "metadata": {
            "tags": [],
            "needs_background": "light"
          }
        },
        {
          "output_type": "display_data",
          "data": {
            "image/png": "[encoded data removed]",
            "text/plain": [
              "<Figure size 432x288 with 1 Axes>"
            ]
          },
          "metadata": {
            "tags": [],
            "needs_background": "light"
          }
        },
        {
          "output_type": "display_data",
          "data": {
            "text/plain": [
              "<Figure size 432x288 with 0 Axes>"
            ]
          },
          "metadata": {
            "tags": []
          }
        }
      ]
    }
  ]
}